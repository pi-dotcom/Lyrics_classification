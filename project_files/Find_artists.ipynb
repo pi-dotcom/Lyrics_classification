{
 "cells": [
  {
   "cell_type": "code",
   "execution_count": null,
   "metadata": {},
   "outputs": [],
   "source": [
    "\"\"\"Main file for our artist-prediction-program\"\"\"\n",
    "import argparse\n",
    "from final_functions import predict, train_model, X_train, y_train\n",
    "\n",
    "\n",
    "# 1. Option: very simple way of getting input from the terminal\n",
    "#user_input = input(\"Please enter the text for the prediction: \\n\")\n",
    "\n",
    "\n",
    "# 2. Option: a bit more advanced\n",
    "parser = argparse.ArgumentParser(description='This program predicts the artist of a given text.')  #Initialization\n",
    "parser.add_argument('given_text', help=\"Give the text that is th einput for the presiction as a string\")\n",
    "#parser.add_argument('--md', '-max_depth', type=int, default=7, help='Give the max.depth that the RandomForest should be trained with')   #choices\n",
    "# add as many arguments as you like \n",
    "args = parser.parse_args()\n",
    "\n",
    "\n",
    "m = train_model(X_train, y_train)\n",
    "prediction, probs = predict(m, [args.given_text])\n",
    "print(prediction, probs)"
   ]
  }
 ],
 "metadata": {
  "kernelspec": {
   "display_name": "Python 3",
   "language": "python",
   "name": "python3"
  },
  "language_info": {
   "codemirror_mode": {
    "name": "ipython",
    "version": 3
   },
   "file_extension": ".py",
   "mimetype": "text/x-python",
   "name": "python",
   "nbconvert_exporter": "python",
   "pygments_lexer": "ipython3",
   "version": "3.8.5"
  }
 },
 "nbformat": 4,
 "nbformat_minor": 4
}
