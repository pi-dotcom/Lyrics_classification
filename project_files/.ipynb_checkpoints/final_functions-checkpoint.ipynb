{
 "cells": [
  {
   "cell_type": "code",
   "execution_count": 11,
   "metadata": {},
   "outputs": [],
   "source": [
    "import pandas as pd\n",
    "my_text = pd.read_csv('all_lyrics.csv')\n",
    "#my_text = my_text.set_index('artist')\n",
    "my_text = my_text.drop(columns='Unnamed: 0')\n",
    "#my_text"
   ]
  },
  {
   "cell_type": "code",
   "execution_count": 12,
   "metadata": {},
   "outputs": [],
   "source": [
    "raw_df = pd.read_csv('lyrics_final.csv')\n",
    "#raw_df"
   ]
  },
  {
   "cell_type": "code",
   "execution_count": 13,
   "metadata": {},
   "outputs": [],
   "source": [
    "from sklearn.model_selection import train_test_split\n",
    "from sklearn.naive_bayes import MultinomialNB\n",
    "X = raw_df['0']\n",
    "y = my_text['artist']\n",
    "X_train, X_test, y_train, y_test = train_test_split(X, y, test_size=0.25, random_state=42)\n"
   ]
  },
  {
   "cell_type": "code",
   "execution_count": 14,
   "metadata": {},
   "outputs": [],
   "source": [
    "from sklearn.feature_extraction.text import TfidfVectorizer\n",
    "from sklearn.pipeline import make_pipeline"
   ]
  },
  {
   "cell_type": "code",
   "execution_count": 15,
   "metadata": {},
   "outputs": [],
   "source": [
    "def train_model(X_train, y_train):\n",
    "    \"\"\"\n",
    "    Takes in list of songs\n",
    "    trains model on it with labels,\n",
    "    and returns trained model\n",
    "    \"\"\"\n",
    "    print('\\nTraining model...')\n",
    "    #cv = CountVectorizer(stop_words='english')\n",
    "    tf = TfidfVectorizer()\n",
    "    #rf = RandomForestClassifier(max_depth=max_depth)\n",
    "    clf = MultinomialNB()\n",
    "    model = make_pipeline(tf, clf)\n",
    "    model.fit(X_train, y_train)\n",
    "    print('...and done!\\n')\n",
    "    return model"
   ]
  },
  {
   "cell_type": "code",
   "execution_count": 16,
   "metadata": {},
   "outputs": [],
   "source": [
    "def predict(pipeline, new_text):\n",
    "    \"\"\"\n",
    "    Takes the pre-trained pipeline model and predicts new artist.\n",
    "    \"\"\"\n",
    "    prediction = pipeline.predict(new_text)\n",
    "    probs = pipeline.predict_proba(new_text)\n",
    "    return prediction[0], probs.max()"
   ]
  },
  {
   "cell_type": "code",
   "execution_count": null,
   "metadata": {},
   "outputs": [],
   "source": []
  },
  {
   "cell_type": "code",
   "execution_count": null,
   "metadata": {},
   "outputs": [],
   "source": []
  }
 ],
 "metadata": {
  "kernelspec": {
   "display_name": "Python 3",
   "language": "python",
   "name": "python3"
  },
  "language_info": {
   "codemirror_mode": {
    "name": "ipython",
    "version": 3
   },
   "file_extension": ".py",
   "mimetype": "text/x-python",
   "name": "python",
   "nbconvert_exporter": "python",
   "pygments_lexer": "ipython3",
   "version": "3.8.5"
  }
 },
 "nbformat": 4,
 "nbformat_minor": 4
}
