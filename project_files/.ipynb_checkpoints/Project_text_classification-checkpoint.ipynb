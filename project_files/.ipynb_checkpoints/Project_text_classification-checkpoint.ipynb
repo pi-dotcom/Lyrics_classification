{
 "cells": [
  {
   "cell_type": "code",
   "execution_count": 74,
   "metadata": {},
   "outputs": [],
   "source": [
    "\n",
    "import requests\n",
    "import re\n",
    "r = requests.get('http://www.songlyrics.com/').text\n",
    "#file_text = open('file.txt','w')\n",
    "#file_text.write(r.text)\n",
    "#file_text.close()\n"
   ]
  },
  {
   "cell_type": "code",
   "execution_count": 75,
   "metadata": {},
   "outputs": [],
   "source": [
    "#%cat file.txt\n",
    "#http://www.songlyrics.com/katy-perry/witness-lyrics/"
   ]
  },
  {
   "cell_type": "code",
   "execution_count": 76,
   "metadata": {},
   "outputs": [],
   "source": [
    "#<a itemprop=\"url\" href=\"http://www.songlyrics.com/katy-perry/witness-lyrics/\" title=\"Witness Lyrics Katy Perry\">Witness</a>\n",
    "#pattern1 = 'href=\\\"(http://.+lyrics\\/)\\\"'\n",
    "#link_list = set(re.findall(pattern1, r))\n",
    "#link_list"
   ]
  },
  {
   "cell_type": "code",
   "execution_count": 77,
   "metadata": {},
   "outputs": [],
   "source": [
    "#mkdir practice_songs"
   ]
  },
  {
   "cell_type": "code",
   "execution_count": 78,
   "metadata": {},
   "outputs": [],
   "source": [
    "#for index,link in enumerate(link_list):\n",
    "    #new_list = requests.get(link).text\n",
    "    #songs_text = open(f'practice_songs/songs{index}.txt','w')\n",
    "    #songs_text.write(new_list)\n",
    "    #songs_text.close()\n",
    "    "
   ]
  },
  {
   "cell_type": "code",
   "execution_count": null,
   "metadata": {},
   "outputs": [],
   "source": [
    "\n",
    "\n"
   ]
  },
  {
   "cell_type": "code",
   "execution_count": null,
   "metadata": {},
   "outputs": [],
   "source": []
  },
  {
   "cell_type": "code",
   "execution_count": 79,
   "metadata": {},
   "outputs": [],
   "source": [
    "#pattern = 'href=\\\"\\/lyric[^\\\"]+'"
   ]
  },
  {
   "cell_type": "code",
   "execution_count": 80,
   "metadata": {},
   "outputs": [],
   "source": [
    "#re.findall(pattern, r.text)"
   ]
  },
  {
   "cell_type": "code",
   "execution_count": 81,
   "metadata": {},
   "outputs": [],
   "source": [
    "#import requests\n",
    "#import re\n",
    "#html = requests.get('https://www.lyrics.com/artist/Fleet-Foxes/826649').text\n",
    "#html"
   ]
  },
  {
   "cell_type": "code",
   "execution_count": 82,
   "metadata": {},
   "outputs": [],
   "source": [
    "#<a itemprop=\"url\" href=\"http://www.songlyrics.com/katy-perry/witness-lyrics/\" title=\"Witness Lyrics Katy Perry\">Witness</a>\n",
    "#pattern1 = 'href=\\\".+songlyrics.+[^\\\"]+'\n",
    "#re.findall(pattern, html)"
   ]
  },
  {
   "cell_type": "code",
   "execution_count": 83,
   "metadata": {},
   "outputs": [],
   "source": [
    "#<a href=\"/lyric/35469087/Fleet+Foxes/Mykonos\">Mykonos</a>\n",
    "#pattern = 'href=\\\"\\/lyric[^\\\"]+'"
   ]
  },
  {
   "cell_type": "code",
   "execution_count": 84,
   "metadata": {
    "scrolled": false
   },
   "outputs": [],
   "source": [
    "#re.findall(pattern, html)"
   ]
  },
  {
   "cell_type": "code",
   "execution_count": 85,
   "metadata": {
    "scrolled": false
   },
   "outputs": [],
   "source": [
    "linkin_park = requests.get('http://www.songlyrics.com/linkin-park-lyrics/').text\n",
    "#linkin_park\n",
    "coldplay = requests.get('http://www.songlyrics.com/coldplay-lyrics/').text\n",
    "britney_spears = requests.get('http://www.songlyrics.com/britney-spears-lyrics/').text"
   ]
  },
  {
   "cell_type": "code",
   "execution_count": 86,
   "metadata": {},
   "outputs": [
    {
     "data": {
      "text/plain": [
       "100"
      ]
     },
     "execution_count": 86,
     "metadata": {},
     "output_type": "execute_result"
    }
   ],
   "source": [
    "#<a itemprop=\"url\" href=\"http://www.songlyrics.com/linkin-park/iridescent-lyrics/\" title=\"Iridescent Lyrics Linkin Park\">Iridescent</a>\n",
    "park_pattern = 'href=\\\"(http://.+lyrics\\/)\\\"'\n",
    "linkin_songs_list = re.findall(park_pattern, linkin_park)[1:101]\n",
    "#linkin_songs_list\n",
    "coldplay_songs_list = re.findall(park_pattern, coldplay)[1:101]\n",
    "#coldplay_songs_list\n",
    "britney_songs_list = re.findall(park_pattern, britney_spears)[1:101]\n",
    "len(britney_songs_list)"
   ]
  },
  {
   "cell_type": "code",
   "execution_count": 87,
   "metadata": {},
   "outputs": [
    {
     "data": {
      "text/plain": [
       "\"\\nfor index,link in enumerate(linkin_songs_list):\\n    new_list = requests.get(link).text\\n    songs_text = open(f'linkin_songs/songs{index}.txt','w')\\n    songs_text.write(new_list)\\n    songs_text.close()\\n\""
      ]
     },
     "execution_count": 87,
     "metadata": {},
     "output_type": "execute_result"
    }
   ],
   "source": [
    "import requests\n",
    "from bs4 import BeautifulSoup\n",
    "import re\n",
    "import pandas as pd\n",
    "import os\n",
    "#os.makedirs('linkin_songs')\n",
    "'''\n",
    "for index,link in enumerate(linkin_songs_list):\n",
    "    new_list = requests.get(link).text\n",
    "    songs_text = open(f'linkin_songs/songs{index}.txt','w')\n",
    "    songs_text.write(new_list)\n",
    "    songs_text.close()\n",
    "'''"
   ]
  },
  {
   "cell_type": "code",
   "execution_count": 88,
   "metadata": {},
   "outputs": [],
   "source": [
    "def get_lyrics(artist_name):\n",
    "    ret_list = list()\n",
    "    artist_name_request = requests.get(f'http://www.songlyrics.com/{artist_name}-lyrics/').text\n",
    "    pattern = 'href=\\\"(http://.+lyrics\\/)\\\"'\n",
    "    songs_list = re.findall(pattern, artist_name_request)[1:101]\n",
    "    if not os.path.exists(f'{artist_name}_songs'):\n",
    "        os.makedirs(f'{artist_name}_songs')\n",
    "    \n",
    "    for index,link in enumerate(songs_list):\n",
    "        new_list = requests.get(link).text\n",
    "        songs_text = open(f'{artist_name}_songs/songs{index}.txt','w')\n",
    "        songs_text.write(new_list)\n",
    "        songs_text.close()\n",
    "    \n",
    "    for index,link in enumerate(songs_list):\n",
    "        #new_list = requests.get(link).text\n",
    "        songs_text = open(f'{artist_name}_songs/songs{index}.txt')\n",
    "        song_html_content = songs_text.read()\n",
    "        songs_text.close()\n",
    "        songs_soup = BeautifulSoup(song_html_content, 'html')\n",
    "        lyrics = songs_soup.find_all('p', attrs = {'id':\"songLyricsDiv\"})[0].text\n",
    "        cleaned_lyrics = lyrics.replace(\"\\n\",\" \")\n",
    "        ret_list.append({\"lyrics\":cleaned_lyrics,\"artist\":artist_name})\n",
    "        # songs_text = open(f'{artist_name}_songs/lyrics{index}.txt','w')\n",
    "        # songs_text.write(lyrics)\n",
    "        # songs_text.close()\n",
    "    return ret_list"
   ]
  },
  {
   "cell_type": "code",
   "execution_count": 95,
   "metadata": {},
   "outputs": [],
   "source": [
    "def get_lyrics2(artist_name):\n",
    "    ret_list = list()\n",
    "    artist_name_request = requests.get(f'http://www.songlyrics.com/{artist_name}-lyrics/').text\n",
    "    pattern = 'href=\\\"(http://.+lyrics\\/)\\\"'\n",
    "    songs_list = re.findall(pattern, artist_name_request)[1:101]\n",
    " \n",
    "    for index,link in enumerate(songs_list):\n",
    "        html_text = requests.get(link).text\n",
    "        songs_soup = BeautifulSoup(html_text, 'html')\n",
    "        lyrics = songs_soup.find_all('p', attrs = {'id':\"songLyricsDiv\"})[0].text\n",
    "        clean_lyrics = \"\".join(lyrics)\n",
    "        clean_lyrics = re.sub(\"\\n\", \" \", clean_lyrics)\n",
    "        clean_lyrics = re.sub(\"\\r\", \" \", clean_lyrics)\n",
    "        ret_list.append({\"lyrics\":clean_lyrics,\"artist\":artist_name})\n",
    "    \n",
    "    \n",
    "    return ret_list"
   ]
  },
  {
   "cell_type": "code",
   "execution_count": 96,
   "metadata": {},
   "outputs": [],
   "source": [
    "complete_list = list()\n",
    "lp_list = get_lyrics2('linkin-park')\n",
    "complete_list.extend(lp_list)\n",
    "cp_list = get_lyrics2('coldplay')\n",
    "complete_list.extend(cp_list)\n",
    "bs_list = get_lyrics2('britney-spears')\n",
    "complete_list.extend(bs_list)\n",
    "\n",
    "\n"
   ]
  },
  {
   "cell_type": "code",
   "execution_count": 97,
   "metadata": {},
   "outputs": [],
   "source": [
    "import pandas as pd\n",
    "df=pd.DataFrame(complete_list)\n",
    "df.to_csv(\"all_lyrics.csv\")"
   ]
  },
  {
   "cell_type": "code",
   "execution_count": 98,
   "metadata": {},
   "outputs": [
    {
     "data": {
      "text/plain": [
       "\"Just do something to tell you who I am, ya know?    It's high voltage you cant shake the shock   Because nobody wants it to stop, check it out   It's high voltage you cant shake the shock   Because nobody wants it to stop, check it out   It's high voltage you cant shake the shock   Because nobody wants it to stop, check it out   It's high voltage you cant shake the shock   Because nobody wants it to stop, check it out    I've been taking into crates ever since I was livin in space   Before the ratrace, before monkeys had human traits   Mastered numerology and bigbang theology   Performed lobotomies with telekinetic psychology   Invented the mic so I could start blessin it   And chincheckin kids to make my point like an impressionist   Many men have tried to shake us   But I twist mic cords to double helixes and show them what I'm made of   I buckle knees like leg braces   Cast the spell of instrumental-ness and all of the emcees that hate us   So try on, leave you without a shoulder to cry on   From now to infinity let icons be bygones   I fire bomb ghostly notes haunt this   I've tried threats but moved on to a promise   I stomp shit with or without an accomplis   (Mixed media)   The stamp of approval is on this    It's high voltage you cant shake the shock   Because nobody wants it to stop, check it out   It's high voltage you cant shake the shock   Because nobody wants it to stop, check it out    Akira, put a kink in the backbones of clones with microphones   Never satisfy my rhyme jones   Sprayin bright day over what you might say   Blood type krylon  Technicolor type A   On highways with road rage I'm patient to win   The cage and the tin to bounce all around   In surround sound devouring the scene   Subliminal gangrene paintings   Overall the same things sing songs karaoke copy madness   Break bones verbally with sticks and stone tactics   Fourth dimension, combat convention   Write rhymes at ease while the tracks stand at attention (Attention)   Meant to put you away with the pencil   Pistol, official, 16 line rhyme missile   While you risk it all, I pick out of your flaws   Spin, blah blah blah blah   You can say you saw    It's high voltage you cant shake the shock   Because nobody wants it to stop, check it out   It's high voltage you cant shake the shock   Because nobody wants it to stop, check it out   It's high voltage you cant shake the shock   Because nobody wants it to stop, check it out   It's high voltage you cant shake the shock   Because nobody wants it to stop, check it out    It's high voltage you cant shake the shock   Because nobody wants it to stop, check it out   It's high voltage you cant shake the shock   Because nobody wants it to stop, check it out   It's high voltage you cant shake the shock   Because nobody wants it to stop, check it out   It's high voltage you cant shake the shock   Because nobody wants it to stop, check it out\""
      ]
     },
     "execution_count": 98,
     "metadata": {},
     "output_type": "execute_result"
    }
   ],
   "source": [
    "df.loc[4][0]"
   ]
  },
  {
   "cell_type": "code",
   "execution_count": null,
   "metadata": {},
   "outputs": [],
   "source": []
  }
 ],
 "metadata": {
  "kernelspec": {
   "display_name": "Python 3",
   "language": "python",
   "name": "python3"
  },
  "language_info": {
   "codemirror_mode": {
    "name": "ipython",
    "version": 3
   },
   "file_extension": ".py",
   "mimetype": "text/x-python",
   "name": "python",
   "nbconvert_exporter": "python",
   "pygments_lexer": "ipython3",
   "version": "3.8.5"
  }
 },
 "nbformat": 4,
 "nbformat_minor": 4
}
